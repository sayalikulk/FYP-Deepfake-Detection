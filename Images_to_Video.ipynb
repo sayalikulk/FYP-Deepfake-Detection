{
 "cells": [
  {
   "cell_type": "code",
   "execution_count": 2,
   "metadata": {},
   "outputs": [],
   "source": [
    "import os\n"
   ]
  },
  {
   "cell_type": "code",
   "execution_count": null,
   "metadata": {},
   "outputs": [],
   "source": [
    "pip install opencv-python"
   ]
  },
  {
   "cell_type": "code",
   "execution_count": 3,
   "metadata": {},
   "outputs": [
    {
     "data": {
      "text/plain": [
       "'/raid/Data/Sayali'"
      ]
     },
     "execution_count": 3,
     "metadata": {},
     "output_type": "execute_result"
    }
   ],
   "source": [
    "os.getcwd()\n"
   ]
  },
  {
   "cell_type": "code",
   "execution_count": null,
   "metadata": {},
   "outputs": [],
   "source": [
    "import os\n",
    "\n",
    "import cv2\n",
    "\n",
    "\n",
    "path = './FF_preprocessed_Sayali_Real/'\n",
    "path_to_copy='./FF_Video_Real'\n",
    "arr=[]\n",
    "for i in os.listdir(path):\n",
    "    frame_path = os.path.join(path,i)\n",
    "    img_array=[]\n",
    "    for images in os.listdir(frame_path):\n",
    "        print(images)"
   ]
  },
  {
   "cell_type": "code",
   "execution_count": 4,
   "metadata": {},
   "outputs": [],
   "source": [
    "import os\n",
    "\n",
    "import cv2\n",
    "\n",
    "\n",
    "path = './FF_preprocessed_Sayali_Fake/'\n",
    "path_to_copy='./FF_Video_Fake'\n",
    "arr=[]\n",
    "for i in os.listdir(path):\n",
    "    frame_path = os.path.join(path,i)\n",
    "    img_array=[]\n",
    "    for images in os.listdir(frame_path):\n",
    "        images_path = os.path.join(frame_path,images)\n",
    "        img = cv2.imread(images_path)\n",
    "        height, width, layers = img.shape\n",
    "        \n",
    "        img=cv2.resize(img,(224,224))\n",
    "        size = (224,224)\n",
    "        img_array.append(img)\n",
    "    \n",
    "    a=os.path.join(path_to_copy,i)\n",
    "    os.mkdir(a)\n",
    "    b=os.path.join(a,'project.avi')\n",
    "    out = cv2.VideoWriter(b,cv2.VideoWriter_fourcc(*'DIVX'), 15, size)\n",
    " \n",
    "    for i in range(len(img_array)):\n",
    "        out.write(img_array[i])\n",
    "out.release()"
   ]
  },
  {
   "cell_type": "code",
   "execution_count": null,
   "metadata": {},
   "outputs": [],
   "source": []
  }
 ],
 "metadata": {
  "kernelspec": {
   "display_name": "Python 3",
   "language": "python",
   "name": "python3"
  },
  "language_info": {
   "codemirror_mode": {
    "name": "ipython",
    "version": 3
   },
   "file_extension": ".py",
   "mimetype": "text/x-python",
   "name": "python",
   "nbconvert_exporter": "python",
   "pygments_lexer": "ipython3",
   "version": "3.6.9"
  }
 },
 "nbformat": 4,
 "nbformat_minor": 2
}
